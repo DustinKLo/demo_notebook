{
 "cells": [
  {
   "cell_type": "code",
   "execution_count": 1,
   "metadata": {
    "tags": [
     "parameters"
    ]
   },
   "outputs": [],
   "source": [
    "val_1: int = 34343\n",
    "val_2: str = \"test_demo_notebook\"\n",
    "    \n",
    "# hysds_parameters\n",
    "# hysds_time_limit = 3600\n",
    "# hysds_soft_time_limit = 3600\n",
    "# hysds_disk_usage = \"1GB\"\n",
    "hysds_label = \"test_demo_notebook_12-14\""
   ]
  },
  {
   "cell_type": "code",
   "execution_count": 2,
   "metadata": {},
   "outputs": [
    {
     "name": "stdout",
     "output_type": "stream",
     "text": [
      "34343, type: <class 'int'>\n",
      "test_demo_notebook, type: <class 'str'>\n"
     ]
    }
   ],
   "source": [
    "print(\"{}, type: {}\".format(val_1, type(val_1)))\n",
    "print(\"{}, type: {}\".format(val_2, type(val_2)))"
   ]
  },
  {
   "cell_type": "code",
   "execution_count": null,
   "metadata": {},
   "outputs": [],
   "source": []
  }
 ],
 "metadata": {
  "celltoolbar": "Tags",
  "kernelspec": {
   "display_name": "Python 3",
   "language": "python",
   "name": "python3"
  },
  "language_info": {
   "codemirror_mode": {
    "name": "ipython",
    "version": 3
   },
   "file_extension": ".py",
   "mimetype": "text/x-python",
   "name": "python",
   "nbconvert_exporter": "python",
   "pygments_lexer": "ipython3",
   "version": "3.7.7"
  }
 },
 "nbformat": 4,
 "nbformat_minor": 4
}
